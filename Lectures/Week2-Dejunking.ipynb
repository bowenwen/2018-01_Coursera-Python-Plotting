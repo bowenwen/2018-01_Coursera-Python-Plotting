{
 "cells": [
  {
   "cell_type": "markdown",
   "metadata": {},
   "source": [
    "http://stackoverflow.com/research/developer-survey-2016#most-popular-technologies-per-occupation"
   ]
  },
  {
   "cell_type": "markdown",
   "metadata": {},
   "source": [
    "Matplotlib default"
   ]
  },
  {
   "cell_type": "code",
   "execution_count": 1,
   "metadata": {
    "ExecuteTime": {
     "end_time": "2018-02-05T03:30:11.751078Z",
     "start_time": "2018-02-05T03:30:11.414329Z"
    }
   },
   "outputs": [
    {
     "data": {
      "image/png": "[encoded data removed]",
      "text/plain": [
       "<matplotlib.figure.Figure at 0x1fc6f15cbe0>"
      ]
     },
     "metadata": {},
     "output_type": "display_data"
    }
   ],
   "source": [
    "import matplotlib.pyplot as plt\n",
    "import numpy as np\n",
    "\n",
    "plt.figure()\n",
    "\n",
    "languages =['Python', 'SQL', 'Java', 'C++', 'JavaScript']\n",
    "pos = np.arange(len(languages))\n",
    "popularity = [56, 39, 34, 34, 29]\n",
    "\n",
    "plt.bar(pos, popularity, align='center')\n",
    "plt.xticks(pos, languages)\n",
    "plt.ylabel('% Popularity')\n",
    "plt.title('Top 5 Languages for Math & Data \\nby % Popularity on Stack Overflow')\n",
    " \n",
    "plt.show()"
   ]
  },
  {
   "cell_type": "markdown",
   "metadata": {},
   "source": [
    "Working solution"
   ]
  },
  {
   "cell_type": "code",
   "execution_count": 2,
   "metadata": {
    "ExecuteTime": {
     "end_time": "2018-02-05T03:30:11.910285Z",
     "start_time": "2018-02-05T03:30:11.753071Z"
    }
   },
   "outputs": [
    {
     "data": {
      "image/png": "[encoded data removed]",
      "text/plain": [
       "<matplotlib.figure.Figure at 0x1fc706ab668>"
      ]
     },
     "metadata": {},
     "output_type": "display_data"
    }
   ],
   "source": [
    "import matplotlib.pyplot as plt\n",
    "import numpy as np\n",
    "\n",
    "plt.figure()\n",
    "\n",
    "languages =['Python', 'SQL', 'Java', 'C++', 'JavaScript']\n",
    "pos = np.arange(len(languages))\n",
    "popularity = [56, 39, 34, 34, 29]\n",
    "\n",
    "# # old bars\n",
    "# plt.bar(pos, popularity, align='center')\n",
    "# plt.xticks(pos, languages)\n",
    "# plt.ylabel('% Popularity')\n",
    "# plt.title('Top 5 Languages for Math & Data \\nby % Popularity on Stack Overflow')\n",
    "\n",
    "# Part 3 - modify bar colors ##############################################\n",
    "# python bar to a contrasting color, rest of the bar has less bright blue\n",
    "# soften the labels by turning grey\n",
    "# ## My solution - \n",
    "# plt.axes().xaxis.label.set_color('grey')\n",
    "# plt.axes().yaxis.label.set_color('grey')\n",
    "## Lecture solution\n",
    "# change the bar colors to be less bright blue\n",
    "bars = plt.bar(pos, popularity, align='center', linewidth=0, color='lightslategrey')\n",
    "# make one bar, the python bar, a contrasting color\n",
    "bars[0].set_color('#1F77B4')\n",
    "\n",
    "# soften all labels by turning grey\n",
    "plt.xticks(pos, languages, alpha=0.8)\n",
    "plt.ylabel('% Popularity', alpha=0.8)\n",
    "plt.title('Top 5 Languages for Math & Data \\nby % popularity on Stack Overflow', alpha=0.8)\n",
    "\n",
    "# Part 1 - hide axis ticks ##############################################\n",
    "# ## My solution\n",
    "# # hide axis tickes - buggy\n",
    "# # plt.axes().get_xaxis().set_ticks([])\n",
    "# # plt.axes().get_yaxis().set_ticks([])\n",
    "# # hide all elements of the axis\n",
    "# plt.axes().get_xaxis().set_visible(False)\n",
    "# plt.axes().get_yaxis().set_visible(False)\n",
    "## lecture solution\n",
    "# remove all the ticks (both axes), and tick labels on the Y axis\n",
    "plt.tick_params(top='off', bottom='off', left='off', right='off', labelleft='off', labelbottom='on')\n",
    "\n",
    "# Part 2 - remove frame ##############################################\n",
    "# ## My solution - this removes the label too, which is not asked of\n",
    "# plt.axis('off')\n",
    "## Lecture solution\n",
    "# # remove the frame of the chart\n",
    "# for spine in plt.gca().spines.values():\n",
    "#     spine.set_visible(False)\n",
    "# or equivalently\n",
    "plt.gca().spines['top'].set_visible(False)\n",
    "plt.gca().spines['right'].set_visible(False)\n",
    "plt.gca().spines['bottom'].set_visible(False)\n",
    "plt.gca().spines['left'].set_visible(False)\n",
    "\n",
    "# Part 3 - add value to the bar, and remove Y-axis label ##############################################\n",
    "# ## My solution - incomplete\n",
    "# plt.axes().get_yaxis().set_visible(False)\n",
    "# # could use this: https://stackoverflow.com/questions/28931224/adding-value-labels-on-a-matplotlib-bar-chart/28931750\n",
    "## Lecture solution - note lecture commented out y-label\n",
    "# remove the Y label since bars are directly labeled\n",
    "plt.ylabel('% Popularity', alpha=0.0) # set invisible\n",
    "# direct label each bar with Y axis values\n",
    "for bar in bars:\n",
    "    plt.gca().text(bar.get_x() + bar.get_width()/2, bar.get_height() - 5, str(int(bar.get_height())) + '%', \n",
    "                 ha='center', color='w', fontsize=11)\n",
    "\n",
    "plt.show()"
   ]
  },
  {
   "cell_type": "code",
   "execution_count": 3,
   "metadata": {
    "ExecuteTime": {
     "end_time": "2018-02-05T03:30:11.917790Z",
     "start_time": "2018-02-05T03:30:11.912286Z"
    },
    "collapsed": true
   },
   "outputs": [],
   "source": [
    "# import the artist class from matplotlib\n",
    "from matplotlib.artist import Artist\n",
    "\n",
    "def rec_gc(art, depth=0):\n",
    "    if isinstance(art, Artist):\n",
    "        # increase the depth for pretty printing\n",
    "        print(\"  \" * depth + str(art))\n",
    "        for child in art.get_children():\n",
    "            rec_gc(child, depth+2)"
   ]
  },
  {
   "cell_type": "code",
   "execution_count": 4,
   "metadata": {
    "ExecuteTime": {
     "end_time": "2018-02-05T03:30:12.002852Z",
     "start_time": "2018-02-05T03:30:11.919792Z"
    }
   },
   "outputs": [
    {
     "name": "stdout",
     "output_type": "stream",
     "text": [
      "AxesSubplot(0.125,0.125;0.775x0.755)\n",
      "    Spine\n",
      "    Spine\n",
      "    Spine\n",
      "    Spine\n",
      "    XAxis(54.000000,36.000000)\n",
      "        Text(0.5,0,'')\n",
      "        Text(1,0,'')\n",
      "        <matplotlib.axis.XTick object at 0x000001FC7073B5F8>\n",
      "            Line2D()\n",
      "            Line2D()\n",
      "            Line2D((0,0),(0,1))\n",
      "            Text(0,0,'')\n",
      "            Text(0,1,'')\n",
      "        <matplotlib.axis.XTick object at 0x000001FC706EE048>\n",
      "            Line2D()\n",
      "            Line2D()\n",
      "            Line2D((0,0),(0,1))\n",
      "            Text(0,0,'')\n",
      "            Text(0,1,'')\n",
      "        <matplotlib.axis.XTick object at 0x000001FC70759550>\n",
      "            Line2D()\n",
      "            Line2D()\n",
      "            Line2D((0,0),(0,1))\n",
      "            Text(0,0,'')\n",
      "            Text(0,1,'')\n",
      "        <matplotlib.axis.XTick object at 0x000001FC70759CF8>\n",
      "            Line2D()\n",
      "            Line2D()\n",
      "            Line2D((0,0),(0,1))\n",
      "            Text(0,0,'')\n",
      "            Text(0,1,'')\n",
      "        <matplotlib.axis.XTick object at 0x000001FC7075D390>\n",
      "            Line2D()\n",
      "            Line2D()\n",
      "            Line2D((0,0),(0,1))\n",
      "            Text(0,0,'')\n",
      "            Text(0,1,'')\n",
      "        <matplotlib.axis.XTick object at 0x000001FC7075D940>\n",
      "            Line2D()\n",
      "            Line2D()\n",
      "            Line2D((0,0),(0,1))\n",
      "            Text(0,0,'')\n",
      "            Text(0,1,'')\n",
      "    YAxis(54.000000,36.000000)\n",
      "        Text(0,0.5,'')\n",
      "        Text(0,0.5,'')\n",
      "        <matplotlib.axis.YTick object at 0x000001FC70718048>\n",
      "            Line2D()\n",
      "            Line2D()\n",
      "            Line2D((0,0),(1,0))\n",
      "            Text(0,0,'')\n",
      "            Text(1,0,'')\n",
      "        <matplotlib.axis.YTick object at 0x000001FC70718A20>\n",
      "            Line2D()\n",
      "            Line2D()\n",
      "            Line2D((0,0),(1,0))\n",
      "            Text(0,0,'')\n",
      "            Text(1,0,'')\n",
      "        <matplotlib.axis.YTick object at 0x000001FC70759470>\n",
      "            Line2D()\n",
      "            Line2D()\n",
      "            Line2D((0,0),(1,0))\n",
      "            Text(0,0,'')\n",
      "            Text(1,0,'')\n",
      "        <matplotlib.axis.YTick object at 0x000001FC70765EF0>\n",
      "            Line2D()\n",
      "            Line2D()\n",
      "            Line2D((0,0),(1,0))\n",
      "            Text(0,0,'')\n",
      "            Text(1,0,'')\n",
      "        <matplotlib.axis.YTick object at 0x000001FC707594A8>\n",
      "            Line2D()\n",
      "            Line2D()\n",
      "            Line2D((0,0),(1,0))\n",
      "            Text(0,0,'')\n",
      "            Text(1,0,'')\n",
      "        <matplotlib.axis.YTick object at 0x000001FC7076B3C8>\n",
      "            Line2D()\n",
      "            Line2D()\n",
      "            Line2D((0,0),(1,0))\n",
      "            Text(0,0,'')\n",
      "            Text(1,0,'')\n",
      "    Text(0.5,1,'')\n",
      "    Text(0,1,'')\n",
      "    Text(1,1,'')\n",
      "    Rectangle(xy=(0, 0), width=1, height=1, angle=0)\n"
     ]
    }
   ],
   "source": [
    "rec_gc(plt.axes())"
   ]
  },
  {
   "cell_type": "markdown",
   "metadata": {},
   "source": [
    "Final Clean Solution"
   ]
  },
  {
   "cell_type": "code",
   "execution_count": 6,
   "metadata": {
    "ExecuteTime": {
     "end_time": "2018-02-05T03:30:57.716452Z",
     "start_time": "2018-02-05T03:30:57.610376Z"
    },
    "scrolled": true
   },
   "outputs": [
    {
     "data": {
      "image/png": "[encoded data removed]",
      "text/plain": [
       "<matplotlib.figure.Figure at 0x1fc7076bf60>"
      ]
     },
     "metadata": {},
     "output_type": "display_data"
    }
   ],
   "source": [
    "import matplotlib.pyplot as plt\n",
    "import numpy as np\n",
    "\n",
    "plt.figure()\n",
    "\n",
    "languages =['Python', 'SQL', 'Java', 'C++', 'JavaScript']\n",
    "pos = np.arange(len(languages))\n",
    "popularity = [56, 39, 34, 34, 29]\n",
    "\n",
    "# change the bar color to be less bright blue\n",
    "bars = plt.bar(pos, popularity, align='center', linewidth=0, color='lightslategrey')\n",
    "# change one bar, the python bar, to a contrasting color\n",
    "bars[0].set_color('#1F77B4')\n",
    "\n",
    "# soften all labels by turning grey\n",
    "plt.xticks(pos, languages, alpha=0.8)\n",
    "# remove the Y label since bars are directly labeled\n",
    "#plt.ylabel('% Popularity', alpha=0.8)\n",
    "plt.title('Top 5 Languages for Math & Data \\nby % popularity on Stack Overflow', alpha=0.8)\n",
    "\n",
    "# remove all the ticks (both axes), and tick labels on the Y axis\n",
    "plt.tick_params(top='off', bottom='off', left='off', right='off', labelleft='off', labelbottom='on')\n",
    "\n",
    "# remove the frame of the chart\n",
    "for spine in plt.gca().spines.values():\n",
    "    spine.set_visible(False)\n",
    "    \n",
    "# direct label each bar with Y axis values\n",
    "for bar in bars:\n",
    "    height = bar.get_height()\n",
    "    plt.gca().text(bar.get_x() + bar.get_width()/2, bar.get_height() - 5, str(int(height)) + '%', \n",
    "                 ha='center', color='w', fontsize=11)\n",
    "plt.show()"
   ]
  },
  {
   "cell_type": "code",
   "execution_count": null,
   "metadata": {
    "collapsed": true
   },
   "outputs": [],
   "source": []
  }
 ],
 "metadata": {
  "anaconda-cloud": {},
  "kernelspec": {
   "display_name": "Python [default]",
   "language": "python",
   "name": "python3"
  },
  "language_info": {
   "codemirror_mode": {
    "name": "ipython",
    "version": 3
   },
   "file_extension": ".py",
   "mimetype": "text/x-python",
   "name": "python",
   "nbconvert_exporter": "python",
   "pygments_lexer": "ipython3",
   "version": "3.6.4"
  }
 },
 "nbformat": 4,
 "nbformat_minor": 2
}
